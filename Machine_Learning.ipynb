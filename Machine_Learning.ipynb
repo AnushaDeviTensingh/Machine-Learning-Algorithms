{
 "cells": [
  {
   "cell_type": "code",
   "execution_count": null,
   "metadata": {},
   "outputs": [],
   "source": [
    "import pandas as pd\n",
    "import numpy as np\n",
    "import seaborn as sns\n",
    "import matplotlib.pyplot as plt\n",
    "from collections import Counter\n",
    "from imblearn.over_sampling import SMOTE\n",
    "from sklearn.decomposition import PCA\n",
    "\n",
    "from sklearn import preprocessing \n",
    "from sklearn.preprocessing import StandardScaler\n",
    "#import xgboost as xgb\n",
    "from sklearn.svm import SVC\n",
    "from sklearn.naive_bayes import MultinomialNB\n",
    "from sklearn.linear_model import LogisticRegression\n",
    "from sklearn.tree import DecisionTreeClassifier\n",
    "from sklearn.neighbors import KNeighborsClassifier\n",
    "from sklearn.ensemble import RandomForestClassifier,GradientBoostingClassifier\n",
    "\n",
    "from sklearn.model_selection import GridSearchCV\n",
    "from sklearn.pipeline import Pipeline\n",
    "from sklearn.model_selection import cross_validate\n",
    "from sklearn.model_selection import KFold\n",
    "from statistics import mean\n",
    "from sklearn.ensemble import BaggingClassifier\n",
    "from sklearn.metrics import classification_report, accuracy_score, confusion_matrix\n",
    "from sklearn.model_selection import cross_val_score\n",
    "\n",
    "from sklearn.metrics import roc_curve, auc\n",
    "from sklearn.preprocessing import label_binarize\n",
    "from sklearn import metrics\n",
    "import matplotlib.pyplot as plt"
   ]
  },
  {
   "cell_type": "code",
   "execution_count": 2,
   "metadata": {},
   "outputs": [],
   "source": [
    "# Loading feature names\n",
    "data = pd.read_csv(r'Radiomics.csv')\n",
    "tst_data = pd.read_csv(r'Radiomics.csv')\n",
    "\n",
    "\n",
    "X_train, y_train = data.drop(['Pat_id','Label', 'Mask'], axis=1).values, data['Label'].values\n",
    "X_test, y_test = tst_data.drop(['Pat_id','Label','Mask'], axis=1).values, tst_data['Label'].values\n",
    "X_train = preprocessing.normalize(X_train,axis=1)\n",
    "X_test = preprocessing.normalize(X_test,axis=1)\n",
    "\n",
    "pd.DataFrame(X_train).fillna(pd.DataFrame(X_train).mean(), inplace=True)\n",
    "pd.DataFrame(X_test).fillna(pd.DataFrame(y_test).mean(), inplace=True)\n"
   ]
  },
  {
   "cell_type": "code",
   "execution_count": 3,
   "metadata": {},
   "outputs": [
    {
     "name": "stdout",
     "output_type": "stream",
     "text": [
      "Using matplotlib backend: Qt5Agg\n",
      "Populating the interactive namespace from numpy and matplotlib\n"
     ]
    },
    {
     "name": "stderr",
     "output_type": "stream",
     "text": [
      "C:\\Users\\axt180026\\AppData\\Local\\Continuum\\anaconda3\\lib\\site-packages\\IPython\\core\\magics\\pylab.py:160: UserWarning: pylab import has clobbered these variables: ['mean']\n",
      "`%matplotlib` prevents importing * from pylab and numpy\n",
      "  \"\\n`%matplotlib` prevents importing * from pylab and numpy\"\n"
     ]
    }
   ],
   "source": [
    "# Visualising features using heat map\n",
    "%pylab\n",
    "X=X_train\n",
    "y=y_train\n",
    "\n",
    "corrmat=data.corr()\n",
    "top=corrmat.index\n",
    "plt.figure()\n",
    "#plot heat map\n",
    "sns.heatmap(data[top].corr(),annot=True,cmap=\"RdYlGn\")\n",
    "plt.show()"
   ]
  },
  {
   "cell_type": "code",
   "execution_count": 4,
   "metadata": {},
   "outputs": [
    {
     "name": "stdout",
     "output_type": "stream",
     "text": [
      "Resampled dataset shape Counter({1: 356, 0: 356})\n"
     ]
    }
   ],
   "source": [
    "# Over sampling to balance datasets eg. Benign 100, Malignant 450; After oversampling Benign 450, Malignant 450; \n",
    "sm = SMOTE(random_state=100)\n",
    "X_res, y_res = sm.fit_resample(X_train, y_train)\n",
    "print('Resampled dataset shape %s' % Counter(y_res))\n"
   ]
  },
  {
   "cell_type": "code",
   "execution_count": 5,
   "metadata": {},
   "outputs": [
    {
     "name": "stdout",
     "output_type": "stream",
     "text": [
      "(454, 2)\n",
      "(454, 2)\n"
     ]
    }
   ],
   "source": [
    "# Principal Component Analysis - to reduce redundancy and to reduce dimension\n",
    "\n",
    "pca = PCA(0.95)\n",
    "pca.fit(X_train)\n",
    "X_train = pca.transform(X_train)\n",
    "X_test = pca.transform(X_test)\n",
    "print(np.shape(X_train))\n",
    "print(np.shape(X_test))"
   ]
  },
  {
   "cell_type": "code",
   "execution_count": null,
   "metadata": {},
   "outputs": [],
   "source": [
    "# Building pipeline \n",
    "SVparam_grid = [{'SVM__kernel': ['rbf','linear'], 'SVM__gamma': [0.01,0.1,1],'SVM__C': [0.1,1,10,]}]\n",
    "LRparam_grid = [{'LR__C': np.power(10.0, np.arange(-1.0, 2.0, 1.0))}]\n",
    "DTparam_grid = [{'DT__max_depth': np.arange(3, 16, dtype='int')}]\n",
    "kNNparam_grid = [{'Knn__n_neighbors': np.arange(3, 16, dtype='int')}]\n",
    "RFparam_grid = [{'RF__max_depth': np.arange(1, 8, dtype='int'),'RF__n_estimators': np.arange(1, 8, dtype='int')}]\n",
    "#xGBparam_grid = [{'max_depth': np.arange(1, 18, dtype='int')}]\n",
    "\n",
    "LRpipeline = Pipeline([('scaler', StandardScaler()),\n",
    "                       ('LR',LogisticRegression(solver='lbfgs'))])\n",
    "DTpipeline = Pipeline([('transformer', StandardScaler()),\n",
    "                       ('DT',DecisionTreeClassifier(criterion='entropy'))]) \n",
    "kNNpipeline= Pipeline([('transformer', StandardScaler()),\n",
    "                       ('Knn',KNeighborsClassifier())])\n",
    "RFpipeline = Pipeline([('transform', StandardScaler()),\n",
    "                       ('RF',RandomForestClassifier())])\n",
    "SVpipeline = Pipeline([('scaler', StandardScaler()),\n",
    "                       ('SVM',SVC(probability=True))])\n",
    "\n",
    "SVM_grid = GridSearchCV(SVpipeline, param_grid=SVparam_grid , cv=10,iid=True)\n",
    "Knn_grid = GridSearchCV(kNNpipeline, param_grid=kNNparam_grid, cv=10,iid=True)\n",
    "LR_grid = GridSearchCV(LRpipeline, param_grid=LRparam_grid, cv=10,iid=True)\n",
    "DT_grid = GridSearchCV(DTpipeline, param_grid=DTparam_grid, cv=10,iid=True)\n",
    "RF_grid = GridSearchCV(RFpipeline, param_grid=RFparam_grid, cv=10,iid=True)\n",
    "\n",
    "SV_pline=SVM_grid.fit(X_train, y_train) \n",
    "kNN_pline=Knn_grid.fit(X_train, y_train) \n",
    "LR_pline=LR_grid.fit(X_train, y_train) \n",
    "DT_pline=DT_grid.fit(X_train, y_train)\n",
    "RF_pline=RF_grid.fit(X_train, y_train)"
   ]
  },
  {
   "cell_type": "code",
   "execution_count": null,
   "metadata": {},
   "outputs": [],
   "source": [
    "# Best parameters for different model identified by GrindsearchCV \n",
    "print(SV_pline.best_params_)\n",
    "print(DT_pline.best_params_)\n",
    "print(LR_pline.best_params_)\n",
    "print(kNN_pline.best_params_)\n",
    "print(RF_pline.best_params_)"
   ]
  },
  {
   "cell_type": "code",
   "execution_count": null,
   "metadata": {},
   "outputs": [],
   "source": [
    "# Cross_validation Score\n",
    "print('SVM',np.mean(cross_val_score(SV_pline, X_train, y_train,cv=5)))\n",
    "print('kNN',np.mean(cross_val_score(kNN_pline, X_train, y_train,cv=5)))\n",
    "print('Logistic Regression',np.mean(cross_val_score(LR_pline, X_train, y_train,cv=5)))\n",
    "print('Decision Tree',np.mean(cross_val_score(DT_pline, X_train, y_train,cv=5)))\n",
    "print('Random Forest',np.mean(cross_val_score(RF_pline, X_train, y_train,cv=5)))"
   ]
  },
  {
   "cell_type": "code",
   "execution_count": null,
   "metadata": {},
   "outputs": [],
   "source": [
    "print('SVM')\n",
    "print(classification_report(y_test, SV_pline.predict(X_test)))\n",
    "print('Decision Tree')\n",
    "print(classification_report(y_test, DT_pline.predict(X_test)))\n",
    "print('Logistic Regression')\n",
    "print(classification_report(y_test,LR_pline.predict(X_test)))\n",
    "print('K-Nearest Neighbours')\n",
    "print(classification_report(y_test, kNN_pline.predict(X_test)))\n",
    "print('Random Forest')\n",
    "print(classification_report(y_test, RF_pline.predict(X_test)))"
   ]
  },
  {
   "cell_type": "code",
   "execution_count": null,
   "metadata": {},
   "outputs": [],
   "source": [
    "print(\"Confusion Matrix of SVM:\")\n",
    "print(confusion_matrix(y_test, SV_pline.predict(X_test)))\n",
    "print(\"Confusion Matrix of Knn:\")\n",
    "print(confusion_matrix(y_test,kNN_pline.predict(X_test)))\n",
    "print(\"Confusion Matrix of Knn:\")\n",
    "print(confusion_matrix(y_test,LR_pline.predict(X_test)))\n",
    "print(\"Confusion Matrix of DT:\")\n",
    "print(confusion_matrix(y_test, DT_pline.predict(X_test)))\n",
    "print(\"Confusion Matrix of RF:\")\n",
    "print(confusion_matrix(y_test, RF_pline.predict(X_test)))"
   ]
  },
  {
   "cell_type": "code",
   "execution_count": null,
   "metadata": {},
   "outputs": [],
   "source": [
    "fpr = dict()\n",
    "tpr = dict()\n",
    "thres=dict()\n",
    "roc_auc = dict()"
   ]
  },
  {
   "cell_type": "code",
   "execution_count": null,
   "metadata": {},
   "outputs": [],
   "source": [
    "for i in range(2):\n",
    "    y_pred_proba = SV_pline.predict_proba(X_test)[::,i]\n",
    "    fpr[i], tpr[i], _ = metrics.roc_curve(y_test, y_pred_proba)\n",
    "    roc_auc[i] = auc(fpr[i], tpr[i])\n",
    "    \n",
    "    \n",
    "print('AUC in SVM is', roc_auc[1])\n",
    "plt.figure()\n",
    "plt.xlim([0.0, 1.0])\n",
    "plt.ylim([0.0, 1.05])\n",
    "plt.plot(fpr[0], tpr[0], color='red',\n",
    "lw=2, label='ROC curve (area = %0.2f)' % roc_auc[0])\n",
    "plt.plot(fpr[1], tpr[1], color='darkorange',\n",
    "lw=2, label='ROC curve (area = %0.2f)' % roc_auc[1])\n",
    "plt.plot([0, 1], [0, 1], color='navy', lw=2, linestyle='--')\n",
    "plt.xlabel('False Positive Rate')\n",
    "plt.ylabel('True Positive Rate')\n",
    "plt.title('Receiver operating characteristic of SVM')\n",
    "plt.legend(loc=\"lower right\")\n",
    "plt.show()"
   ]
  },
  {
   "cell_type": "code",
   "execution_count": null,
   "metadata": {},
   "outputs": [],
   "source": [
    "for i in range(2):\n",
    "    y_pred_proba = DT_pline.predict_proba(X_test)[::,i]\n",
    "    fpr[i], tpr[i], _ = metrics.roc_curve(y_test, y_pred_proba)\n",
    "    roc_auc[i] = auc(fpr[i], tpr[i])\n",
    "    \n",
    "    \n",
    "print('AUC in Decision tree is', roc_auc[1])\n",
    "plt.figure()\n",
    "plt.xlim([0.0, 1.0])\n",
    "plt.ylim([0.0, 1.05])\n",
    "plt.plot(fpr[0], tpr[0], color='red',\n",
    "lw=2, label='ROC curve (area = %0.2f)' % roc_auc[0])\n",
    "plt.plot(fpr[1], tpr[1], color='darkorange',\n",
    "lw=2, label='ROC curve (area = %0.2f)' % roc_auc[1])\n",
    "plt.plot([0, 1], [0, 1], color='navy', lw=2, linestyle='--')\n",
    "plt.xlabel('False Positive Rate')\n",
    "plt.ylabel('True Positive Rate')\n",
    "plt.title('Receiver operating characteristic of Decision Tree')\n",
    "plt.legend(loc=\"lower right\")\n",
    "plt.show()"
   ]
  },
  {
   "cell_type": "code",
   "execution_count": null,
   "metadata": {},
   "outputs": [],
   "source": [
    "for i in range(2):\n",
    "    y_pred_proba = LR_pline.predict_proba(X_test)[::,i]\n",
    "    fpr[i], tpr[i], _ = metrics.roc_curve(y_test, y_pred_proba)\n",
    "    roc_auc[i] = auc(fpr[i], tpr[i])\n",
    "    \n",
    "    \n",
    "print('AUC in Logistic regression is', roc_auc[1])\n",
    "plt.figure()\n",
    "plt.xlim([0.0, 1.0])\n",
    "plt.ylim([0.0, 1.05])\n",
    "plt.plot(fpr[0], tpr[0], color='red',\n",
    "lw=2, label='ROC curve (area = %0.2f)' % roc_auc[0])\n",
    "plt.plot(fpr[1], tpr[1], color='darkorange',\n",
    "lw=2, label='ROC curve (area = %0.2f)' % roc_auc[1])\n",
    "plt.plot([0, 1], [0, 1], color='navy', lw=2, linestyle='--')\n",
    "plt.xlabel('False Positive Rate')\n",
    "plt.ylabel('True Positive Rate')\n",
    "plt.title('Receiver operating characteristic of Logistic Regression')\n",
    "plt.legend(loc=\"lower right\")\n",
    "plt.show()"
   ]
  },
  {
   "cell_type": "code",
   "execution_count": null,
   "metadata": {},
   "outputs": [],
   "source": [
    "for i in range(2):\n",
    "    y_pred_proba = kNN_pline.predict_proba(X_test)[::,i]\n",
    "    fpr[i], tpr[i], _ = metrics.roc_curve(y_test, y_pred_proba)\n",
    "    roc_auc[i] = auc(fpr[i], tpr[i])\n",
    "    \n",
    "    \n",
    "print('AUC in K_nearest neighbor is', roc_auc[1])\n",
    "plt.figure()\n",
    "plt.xlim([0.0, 1.0])\n",
    "plt.ylim([0.0, 1.05])\n",
    "plt.plot(fpr[0], tpr[0], color='red',\n",
    "lw=2, label='ROC curve (area = %0.2f)' % roc_auc[0])\n",
    "plt.plot(fpr[1], tpr[1], color='darkorange',\n",
    "lw=2, label='ROC curve (area = %0.2f)' % roc_auc[1])\n",
    "plt.plot([0, 1], [0, 1], color='navy', lw=2, linestyle='--')\n",
    "plt.xlabel('False Positive Rate')\n",
    "plt.ylabel('True Positive Rate')\n",
    "plt.title('Receiver operating characteristic of K_nearest neighbor')\n",
    "plt.legend(loc=\"lower right\")\n",
    "plt.show()"
   ]
  },
  {
   "cell_type": "code",
   "execution_count": null,
   "metadata": {},
   "outputs": [],
   "source": [
    "for i in range(2):\n",
    "    y_pred_proba = RF_pline.predict_proba(X_test)[::,i]\n",
    "    fpr[i], tpr[i], _ = metrics.roc_curve(y_test, y_pred_proba)\n",
    "    roc_auc[i] = auc(fpr[i], tpr[i])\n",
    "    \n",
    "    \n",
    "print('AUC in Random Forest is', roc_auc[1])\n",
    "plt.figure()\n",
    "plt.xlim([0.0, 1.0])\n",
    "plt.ylim([0.0, 1.05])\n",
    "plt.plot(fpr[0], tpr[0], color='red',\n",
    "lw=2, label='ROC curve (area = %0.2f)' % roc_auc[0])\n",
    "plt.plot(fpr[1], tpr[1], color='darkorange',\n",
    "lw=2, label='ROC curve (area = %0.2f)' % roc_auc[1])\n",
    "plt.plot([0, 1], [0, 1], color='navy', lw=2, linestyle='--')\n",
    "plt.xlabel('False Positive Rate')\n",
    "plt.ylabel('True Positive Rate')\n",
    "plt.title('Receiver operating characteristic of Random Forest')\n",
    "plt.legend(loc=\"lower right\")\n",
    "plt.show()"
   ]
  }
 ],
 "metadata": {
  "kernelspec": {
   "display_name": "Python 3",
   "language": "python",
   "name": "python3"
  },
  "language_info": {
   "codemirror_mode": {
    "name": "ipython",
    "version": 3
   },
   "file_extension": ".py",
   "mimetype": "text/x-python",
   "name": "python",
   "nbconvert_exporter": "python",
   "pygments_lexer": "ipython3",
   "version": "3.7.4"
  }
 },
 "nbformat": 4,
 "nbformat_minor": 2
}
